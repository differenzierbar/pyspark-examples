{
 "cells": [
  {
   "cell_type": "code",
   "execution_count": 1,
   "id": "f8283358-86af-4277-a86e-d6d12cdb13f6",
   "metadata": {},
   "outputs": [],
   "source": [
    "from pyspark import SparkContext, SparkConf\n",
    "from pyspark.sql import SparkSession\n",
    "import os\n",
    "\n",
    "k8s_host=os.environ.get('KUBERNETES_SERVICE_HOST')\n",
    "k8s_port=os.environ.get('KUBERNETES_SERVICE_PORT')\n",
    "\n",
    "sparkConf = SparkConf()\n",
    "#sparkConf.setMaster(\"k8s://https://api.crc.testing:6443\")\n",
    "sparkConf.setMaster(\"k8s://https://\" + k8s_host + \":\" + k8s_port)\n",
    "sparkConf.setAppName(\"KUBERNETES-IS-AWESOME\")\n",
    "sparkConf.set(\"spark.kubernetes.container.image\", \"apache/spark-py:v3.3.1\")\n",
    "# sparkConf.set(\"spark.kubernetes.container.image\", \"jupyter/pyspark-notebook:python-3.9\")\n",
    "sparkConf.set(\"spark.kubernetes.namespace\", \"spark\")\n",
    "sparkConf.set(\"spark.kubernetes.authenticate.driver.serviceAccountName\", \"spark\")\n",
    "sparkConf.set(\"spark.driver.host\", os.environ.get('POD_IP'))\n",
    "#sparkConf.set(\"spark.driver.bindAddress\", \"\")\n",
    "\n",
    "sparkConf.set(\"spark.executor.memory\", \"8g\")\n",
    "\n",
    "spark = SparkSession.builder.config(conf=sparkConf).getOrCreate()\n",
    "sc = spark.sparkContext\n",
    "\n",
    "#spark = SparkSession \\\n",
    "#    .builder \\\n",
    "#    .appName(\"Python Spark SQL basic example\") \\\n",
    "#    .master(\"k8s://https://api.crc.testing:6443\") \\\n",
    "#    .config(\"spark.kubernetes.namespace=spark\") \\\n",
    "#    .config(\"spark.kubernetes.driver.container.image=apache/spark-py:v3.3.1\") \\\n",
    "#    .config(\"spark.kubernetes.executor.container.image=apache/spark-py:v3.3.1\") \\\n",
    "#    .config(\"spark.kubernetes.authenticate.driver.serviceAccountName=spark\") \\\n",
    "#    .config(\"spark.some.config.option\", \"some-value\") \\\n",
    "#    .getOrCreate()\n"
   ]
  },
  {
   "cell_type": "code",
   "execution_count": 2,
   "id": "23ab599c",
   "metadata": {},
   "outputs": [
    {
     "name": "stdout",
     "output_type": "stream",
     "text": [
      "       member_id  contract_id  value\n",
      "0              0            0    -16\n",
      "1              0            1      2\n",
      "2              0            2     19\n",
      "3              0            3      9\n",
      "4              0            4    -19\n",
      "...          ...          ...    ...\n",
      "12208        530           18    -14\n",
      "12209        530           19     16\n",
      "12210        530           20     -4\n",
      "12211        530           21     11\n",
      "12212        530           22     -3\n",
      "\n",
      "[12213 rows x 3 columns]\n"
     ]
    },
    {
     "name": "stderr",
     "output_type": "stream",
     "text": [
      "/usr/local/spark/python/pyspark/sql/pandas/conversion.py:474: FutureWarning: iteritems is deprecated and will be removed in a future version. Use .items instead.\n",
      "  for column, series in pdf.iteritems():\n",
      "/usr/local/spark/python/pyspark/sql/pandas/conversion.py:486: FutureWarning: iteritems is deprecated and will be removed in a future version. Use .items instead.\n",
      "  for column, series in pdf.iteritems():\n"
     ]
    },
    {
     "name": "stdout",
     "output_type": "stream",
     "text": [
      "root\n",
      " |-- member_id: long (nullable = true)\n",
      " |-- contract_id: long (nullable = true)\n",
      " |-- value: long (nullable = true)\n",
      "\n",
      "+---------+-----------+-----+\n",
      "|member_id|contract_id|value|\n",
      "+---------+-----------+-----+\n",
      "|        0|          0|  -16|\n",
      "|        0|          1|    2|\n",
      "|        0|          2|   19|\n",
      "|        0|          3|    9|\n",
      "|        0|          4|  -19|\n",
      "|        0|          5|    8|\n",
      "|        0|          6|   -4|\n",
      "|        0|          7|    7|\n",
      "|        0|          8|   12|\n",
      "|        0|          9|   -1|\n",
      "|        0|         10|    1|\n",
      "|        0|         11|   20|\n",
      "|        0|         12|  -10|\n",
      "|        0|         13|  -17|\n",
      "|        0|         14|  -20|\n",
      "|        0|         15|  -14|\n",
      "|        0|         16|    5|\n",
      "|        0|         17|   10|\n",
      "|        0|         18|   20|\n",
      "|        0|         19|  -10|\n",
      "+---------+-----------+-----+\n",
      "only showing top 20 rows\n",
      "\n",
      "      scenario_id  shift_value\n",
      "0               0     1.009992\n",
      "1               1     0.920933\n",
      "2               2     1.118965\n",
      "3               3     0.958307\n",
      "4               4     1.015216\n",
      "...           ...          ...\n",
      "3995         3995     1.070401\n",
      "3996         3996     1.069492\n",
      "3997         3997     0.927099\n",
      "3998         3998     1.076886\n",
      "3999         3999     0.926895\n",
      "\n",
      "[4000 rows x 2 columns]\n",
      "root\n",
      " |-- scenario_id: long (nullable = true)\n",
      " |-- shift_value: double (nullable = true)\n",
      "\n"
     ]
    },
    {
     "name": "stderr",
     "output_type": "stream",
     "text": [
      "/usr/local/spark/python/pyspark/sql/pandas/conversion.py:474: FutureWarning: iteritems is deprecated and will be removed in a future version. Use .items instead.\n",
      "  for column, series in pdf.iteritems():\n",
      "/usr/local/spark/python/pyspark/sql/pandas/conversion.py:486: FutureWarning: iteritems is deprecated and will be removed in a future version. Use .items instead.\n",
      "  for column, series in pdf.iteritems():\n"
     ]
    },
    {
     "name": "stdout",
     "output_type": "stream",
     "text": [
      "+-----------+------------------+\n",
      "|scenario_id|       shift_value|\n",
      "+-----------+------------------+\n",
      "|          0|1.0099917509032859|\n",
      "|          1|0.9209329803179851|\n",
      "|          2|1.1189652046284522|\n",
      "|          3|0.9583074925593636|\n",
      "|          4|1.0152159693960154|\n",
      "|          5|1.1448962363647288|\n",
      "|          6|0.9618061383530386|\n",
      "|          7| 0.944918570714833|\n",
      "|          8|1.2532354613039307|\n",
      "|          9|1.0597543607977933|\n",
      "|         10|1.0348139003497112|\n",
      "|         11|0.9575370352604211|\n",
      "|         12|0.9971601374679556|\n",
      "|         13|1.0949663240034806|\n",
      "|         14|1.1067421983752088|\n",
      "|         15|0.9836003768848569|\n",
      "|         16|0.9838419773837204|\n",
      "|         17|1.0134200736299552|\n",
      "|         18|1.0142543197861544|\n",
      "|         19|0.9080217795774223|\n",
      "+-----------+------------------+\n",
      "only showing top 20 rows\n",
      "\n"
     ]
    }
   ],
   "source": [
    "# Create data\n",
    "import random\n",
    "import pandas as pd\n",
    "\n",
    "num_members = 531\n",
    "num_contracts = 23\n",
    "num_scenarios = 4000\n",
    "\n",
    "positions = [(mem, con, random.randint(-20, 20)) for mem in range(num_members) for con in range(num_contracts)]\n",
    "# print(positions)\n",
    "\n",
    "df_positions = pd.DataFrame(data = positions, columns = [\"member_id\", \"contract_id\", \"value\"])\n",
    "\n",
    "print(df_positions)\n",
    "\n",
    "# import random\n",
    "# import pandas as pd\n",
    "\n",
    "spark_df_positions=spark.createDataFrame(df_positions) \n",
    "spark_df_positions.printSchema()\n",
    "spark_df_positions.show()\n",
    "\n",
    "scenarios = [(sce, random.normalvariate(1, 0.1)) for sce in range(num_scenarios)]\n",
    "# print(scenarios)\n",
    "\n",
    "df_scenarios = pd.DataFrame(data = scenarios, columns = [\"scenario_id\", \"shift_value\"])\n",
    "print(df_scenarios)\n",
    "\n",
    "\n",
    "spark_df_scenarios=spark.createDataFrame(df_scenarios) \n",
    "spark_df_scenarios.printSchema()\n",
    "spark_df_scenarios.show()"
   ]
  },
  {
   "cell_type": "code",
   "execution_count": 3,
   "id": "a5532fed",
   "metadata": {},
   "outputs": [
    {
     "name": "stdout",
     "output_type": "stream",
     "text": [
      "joining...\n",
      "+---------+-----------+-------------------+\n",
      "|member_id|scenario_id|sum(pnl_value)     |\n",
      "+---------+-----------+-------------------+\n",
      "|0        |181        |-69.06301855639256 |\n",
      "|0        |189        |-68.17167759926518 |\n",
      "|0        |428        |-67.02355588374093 |\n",
      "|0        |444        |-63.87552376207421 |\n",
      "|0        |624        |-65.44182704964109 |\n",
      "|0        |1054       |-60.37780907844815 |\n",
      "|0        |1319       |-65.41806552760416 |\n",
      "|0        |1916       |-64.68727883337124 |\n",
      "|0        |1937       |-66.9926416005281  |\n",
      "|0        |2042       |-65.31226314983057 |\n",
      "|6        |1994       |-13.3000625314491  |\n",
      "|7        |1885       |2.5458140745032374 |\n",
      "|8        |2036       |-50.73460380001232 |\n",
      "|10       |1992       |-24.491608277131025|\n",
      "|10       |2047       |-25.501975781729236|\n",
      "|19       |2030       |-74.40332647370346 |\n",
      "|21       |1989       |46.28487378829883  |\n",
      "|24       |1999       |-90.31235385247517 |\n",
      "|25       |2013       |-71.4998841485357  |\n",
      "|25       |2021       |-73.36679883316859 |\n",
      "+---------+-----------+-------------------+\n",
      "only showing top 20 rows\n",
      "\n"
     ]
    }
   ],
   "source": [
    "# # Logic\n",
    "# df_pnl = df_positions.merge(df_scenarios, how=\"cross\")\n",
    "# df_pnl[\"pnl_value\"] = df_pnl[\"value\"] * df_pnl[\"shift_value\"]\n",
    "# print(str(df_pnl.size))\n",
    "\n",
    "# df_pnl = df_pnl.groupby([\"member_id\", \"scenario_id\"], as_index=False)[\"pnl_value\"].sum() # Result\n",
    "# print(df_pnl)\n",
    "\n",
    "# print(\"done\")\n",
    "\n",
    "print(\"joining...\")\n",
    "joined = spark_df_positions.crossJoin(spark_df_scenarios)\n",
    "#result = joined.withColumn('pnl_value', joined.value - joined.shift_value).groupBy(\"member_id\", \"scenario_id\").sum(\"pnl_value\").collect()\n",
    "joined.withColumn('pnl_value', joined.value - joined.shift_value).groupBy(\"member_id\", \"scenario_id\").sum(\"pnl_value\").show(truncate=False)\n",
    "\n"
   ]
  },
  {
   "cell_type": "code",
   "execution_count": 4,
   "id": "463fe566-3fa9-432e-a31a-6834ed6c6360",
   "metadata": {},
   "outputs": [],
   "source": [
    "spark.stop()"
   ]
  },
  {
   "cell_type": "code",
   "execution_count": null,
   "id": "c140923c-03ee-4383-919e-b9a4786d93a7",
   "metadata": {},
   "outputs": [],
   "source": []
  }
 ],
 "metadata": {
  "kernelspec": {
   "display_name": "Python 3 (ipykernel)",
   "language": "python",
   "name": "python3"
  },
  "language_info": {
   "codemirror_mode": {
    "name": "ipython",
    "version": 3
   },
   "file_extension": ".py",
   "mimetype": "text/x-python",
   "name": "python",
   "nbconvert_exporter": "python",
   "pygments_lexer": "ipython3",
   "version": "3.9.15"
  },
  "vscode": {
   "interpreter": {
    "hash": "916dbcbb3f70747c44a77c7bcd40155683ae19c65e1c03b4aa3499c5328201f1"
   }
  }
 },
 "nbformat": 4,
 "nbformat_minor": 5
}
