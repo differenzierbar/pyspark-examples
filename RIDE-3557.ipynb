{
 "cells": [
  {
   "cell_type": "code",
   "execution_count": 1,
   "id": "f8283358-86af-4277-a86e-d6d12cdb13f6",
   "metadata": {},
   "outputs": [],
   "source": [
    "from pyspark import SparkContext, SparkConf\n",
    "from pyspark.sql import SparkSession\n",
    "import os\n",
    "\n",
    "k8s_host=os.environ.get('KUBERNETES_SERVICE_HOST')\n",
    "k8s_port=os.environ.get('KUBERNETES_SERVICE_PORT')\n",
    "\n",
    "sparkConf = SparkConf()\n",
    "#sparkConf.setMaster(\"k8s://https://api.crc.testing:6443\")\n",
    "sparkConf.setMaster(\"k8s://https://\" + k8s_host + \":\" + k8s_port)\n",
    "sparkConf.setAppName(\"KUBERNETES-IS-AWESOME\")\n",
    "sparkConf.set(\"spark.kubernetes.container.image\", \"apache/spark-py:v3.3.1\")\n",
    "# sparkConf.set(\"spark.kubernetes.container.image\", \"jupyter/pyspark-notebook:python-3.9\")\n",
    "sparkConf.set(\"spark.kubernetes.namespace\", \"spark\")\n",
    "sparkConf.set(\"spark.kubernetes.authenticate.driver.serviceAccountName\", \"spark\")\n",
    "sparkConf.set(\"spark.driver.host\", os.environ.get('POD_IP'))\n",
    "#sparkConf.set(\"spark.driver.bindAddress\", \"\")\n",
    "\n",
    "sparkConf.set(\"spark.executor.memory\", \"8g\")\n",
    "\n",
    "spark = SparkSession.builder.config(conf=sparkConf).getOrCreate()\n",
    "sc = spark.sparkContext\n",
    "\n",
    "#spark = SparkSession \\\n",
    "#    .builder \\\n",
    "#    .appName(\"Python Spark SQL basic example\") \\\n",
    "#    .master(\"k8s://https://api.crc.testing:6443\") \\\n",
    "#    .config(\"spark.kubernetes.namespace=spark\") \\\n",
    "#    .config(\"spark.kubernetes.driver.container.image=apache/spark-py:v3.3.1\") \\\n",
    "#    .config(\"spark.kubernetes.executor.container.image=apache/spark-py:v3.3.1\") \\\n",
    "#    .config(\"spark.kubernetes.authenticate.driver.serviceAccountName=spark\") \\\n",
    "#    .config(\"spark.some.config.option\", \"some-value\") \\\n",
    "#    .getOrCreate()\n"
   ]
  },
  {
   "cell_type": "code",
   "execution_count": 2,
   "id": "23ab599c",
   "metadata": {},
   "outputs": [
    {
     "name": "stdout",
     "output_type": "stream",
     "text": [
      "       member_id  contract_id  value\n",
      "0              0            0      6\n",
      "1              0            1      7\n",
      "2              0            2    -17\n",
      "3              0            3    -12\n",
      "4              0            4      6\n",
      "...          ...          ...    ...\n",
      "12208        530           18     -2\n",
      "12209        530           19      8\n",
      "12210        530           20     -8\n",
      "12211        530           21      0\n",
      "12212        530           22     -5\n",
      "\n",
      "[12213 rows x 3 columns]\n"
     ]
    },
    {
     "name": "stderr",
     "output_type": "stream",
     "text": [
      "/usr/local/spark/python/pyspark/sql/pandas/conversion.py:474: FutureWarning: iteritems is deprecated and will be removed in a future version. Use .items instead.\n",
      "  for column, series in pdf.iteritems():\n",
      "/usr/local/spark/python/pyspark/sql/pandas/conversion.py:486: FutureWarning: iteritems is deprecated and will be removed in a future version. Use .items instead.\n",
      "  for column, series in pdf.iteritems():\n"
     ]
    },
    {
     "name": "stdout",
     "output_type": "stream",
     "text": [
      "root\n",
      " |-- member_id: long (nullable = true)\n",
      " |-- contract_id: long (nullable = true)\n",
      " |-- value: long (nullable = true)\n",
      "\n",
      "+---------+-----------+-----+\n",
      "|member_id|contract_id|value|\n",
      "+---------+-----------+-----+\n",
      "|        0|          0|    6|\n",
      "|        0|          1|    7|\n",
      "|        0|          2|  -17|\n",
      "|        0|          3|  -12|\n",
      "|        0|          4|    6|\n",
      "|        0|          5|  -13|\n",
      "|        0|          6|  -15|\n",
      "|        0|          7|   -9|\n",
      "|        0|          8|  -20|\n",
      "|        0|          9|  -20|\n",
      "|        0|         10|   10|\n",
      "|        0|         11|  -12|\n",
      "|        0|         12|   16|\n",
      "|        0|         13|   15|\n",
      "|        0|         14|   -4|\n",
      "|        0|         15|  -10|\n",
      "|        0|         16|  -10|\n",
      "|        0|         17|  -12|\n",
      "|        0|         18|  -13|\n",
      "|        0|         19|  -10|\n",
      "+---------+-----------+-----+\n",
      "only showing top 20 rows\n",
      "\n",
      "      scenario_id  shift_value\n",
      "0               0     0.937657\n",
      "1               1     0.824433\n",
      "2               2     1.023633\n",
      "3               3     1.224256\n",
      "4               4     1.040581\n",
      "...           ...          ...\n",
      "3995         3995     1.109664\n",
      "3996         3996     0.988693\n",
      "3997         3997     1.025938\n",
      "3998         3998     0.974929\n",
      "3999         3999     1.002087\n",
      "\n",
      "[4000 rows x 2 columns]\n",
      "root\n",
      " |-- scenario_id: long (nullable = true)\n",
      " |-- shift_value: double (nullable = true)\n",
      "\n"
     ]
    },
    {
     "name": "stderr",
     "output_type": "stream",
     "text": [
      "/usr/local/spark/python/pyspark/sql/pandas/conversion.py:474: FutureWarning: iteritems is deprecated and will be removed in a future version. Use .items instead.\n",
      "  for column, series in pdf.iteritems():\n",
      "/usr/local/spark/python/pyspark/sql/pandas/conversion.py:486: FutureWarning: iteritems is deprecated and will be removed in a future version. Use .items instead.\n",
      "  for column, series in pdf.iteritems():\n"
     ]
    },
    {
     "name": "stdout",
     "output_type": "stream",
     "text": [
      "+-----------+------------------+\n",
      "|scenario_id|       shift_value|\n",
      "+-----------+------------------+\n",
      "|          0| 0.937657070250954|\n",
      "|          1|0.8244331574643247|\n",
      "|          2|1.0236328378512518|\n",
      "|          3|1.2242555865273401|\n",
      "|          4|1.0405805774149617|\n",
      "|          5|0.8619712553171287|\n",
      "|          6|0.9356813321588868|\n",
      "|          7|1.1076484714781865|\n",
      "|          8|0.9802510812313805|\n",
      "|          9| 1.025266640262752|\n",
      "|         10|1.0412450773775173|\n",
      "|         11|1.0240022353255966|\n",
      "|         12|1.0156201612802138|\n",
      "|         13|1.0878026456143535|\n",
      "|         14|0.8900369882860498|\n",
      "|         15|0.9603567221378804|\n",
      "|         16|0.9819657668045946|\n",
      "|         17|0.9945288796696822|\n",
      "|         18|1.0127986678972682|\n",
      "|         19|0.9691530928390348|\n",
      "+-----------+------------------+\n",
      "only showing top 20 rows\n",
      "\n"
     ]
    }
   ],
   "source": [
    "# Create data\n",
    "import random\n",
    "import pandas as pd\n",
    "\n",
    "num_members = 531\n",
    "num_contracts = 23\n",
    "num_scenarios = 4000\n",
    "\n",
    "positions = [(mem, con, random.randint(-20, 20)) for mem in range(num_members) for con in range(num_contracts)]\n",
    "# print(positions)\n",
    "\n",
    "df_positions = pd.DataFrame(data = positions, columns = [\"member_id\", \"contract_id\", \"value\"])\n",
    "\n",
    "print(df_positions)\n",
    "\n",
    "# import random\n",
    "# import pandas as pd\n",
    "\n",
    "spark_df_positions=spark.createDataFrame(df_positions) \n",
    "spark_df_positions.printSchema()\n",
    "spark_df_positions.show()\n",
    "\n",
    "scenarios = [(sce, random.normalvariate(1, 0.1)) for sce in range(num_scenarios)]\n",
    "# print(scenarios)\n",
    "\n",
    "df_scenarios = pd.DataFrame(data = scenarios, columns = [\"scenario_id\", \"shift_value\"])\n",
    "print(df_scenarios)\n",
    "\n",
    "\n",
    "spark_df_scenarios=spark.createDataFrame(df_scenarios) \n",
    "spark_df_scenarios.printSchema()\n",
    "spark_df_scenarios.show()"
   ]
  },
  {
   "cell_type": "code",
   "execution_count": 3,
   "id": "a5532fed",
   "metadata": {},
   "outputs": [
    {
     "name": "stdout",
     "output_type": "stream",
     "text": [
      "joining...\n",
      "+---------+-----------+-------------------+\n",
      "|member_id|scenario_id|sum(pnl_value)     |\n",
      "+---------+-----------+-------------------+\n",
      "|0        |2066       |-111.8235109707301 |\n",
      "|0        |2109       |-117.30318827276739|\n",
      "|0        |2307       |-117.42045630292708|\n",
      "|0        |2417       |-115.87180253361502|\n",
      "|0        |2466       |-117.48207300346841|\n",
      "|0        |2618       |-116.46043388467683|\n",
      "|0        |2660       |-118.00436797780603|\n",
      "|0        |3484       |-119.44736546293842|\n",
      "|0        |3492       |-115.4269800202625 |\n",
      "|0        |3698       |-119.01501255130553|\n",
      "|0        |3952       |-114.33355150114969|\n",
      "|5        |3963       |-52.986456845070585|\n",
      "|7        |3856       |-60.47210554659992 |\n",
      "|9        |3944       |-1.0436778756890135|\n",
      "|10       |3963       |50.01354315492943  |\n",
      "|12       |3954       |-104.04676043644272|\n",
      "|13       |3971       |100.81259851546605 |\n",
      "|15       |3996       |26.260057278221666 |\n",
      "|24       |3948       |-0.5503287455731574|\n",
      "|24       |3972       |1.1315976111670558 |\n",
      "+---------+-----------+-------------------+\n",
      "only showing top 20 rows\n",
      "\n"
     ]
    }
   ],
   "source": [
    "# # Logic\n",
    "# df_pnl = df_positions.merge(df_scenarios, how=\"cross\")\n",
    "# df_pnl[\"pnl_value\"] = df_pnl[\"value\"] * df_pnl[\"shift_value\"]\n",
    "# print(str(df_pnl.size))\n",
    "\n",
    "# df_pnl = df_pnl.groupby([\"member_id\", \"scenario_id\"], as_index=False)[\"pnl_value\"].sum() # Result\n",
    "# print(df_pnl)\n",
    "\n",
    "# print(\"done\")\n",
    "\n",
    "print(\"joining...\")\n",
    "joined = spark_df_positions.crossJoin(spark_df_scenarios)\n",
    "#result = joined.withColumn('pnl_value', joined.value - joined.shift_value).groupBy(\"member_id\", \"scenario_id\").sum(\"pnl_value\").collect()\n",
    "joined.withColumn('pnl_value', joined.value - joined.shift_value).groupBy(\"member_id\", \"scenario_id\").sum(\"pnl_value\").show(truncate=False)\n",
    "\n"
   ]
  },
  {
   "cell_type": "code",
   "execution_count": 2,
   "id": "463fe566-3fa9-432e-a31a-6834ed6c6360",
   "metadata": {},
   "outputs": [],
   "source": [
    "spark.stop()"
   ]
  },
  {
   "cell_type": "code",
   "execution_count": null,
   "id": "c140923c-03ee-4383-919e-b9a4786d93a7",
   "metadata": {},
   "outputs": [],
   "source": []
  }
 ],
 "metadata": {
  "kernelspec": {
   "display_name": "Python 3 (ipykernel)",
   "language": "python",
   "name": "python3"
  },
  "language_info": {
   "codemirror_mode": {
    "name": "ipython",
    "version": 3
   },
   "file_extension": ".py",
   "mimetype": "text/x-python",
   "name": "python",
   "nbconvert_exporter": "python",
   "pygments_lexer": "ipython3",
   "version": "3.9.15"
  },
  "vscode": {
   "interpreter": {
    "hash": "916dbcbb3f70747c44a77c7bcd40155683ae19c65e1c03b4aa3499c5328201f1"
   }
  }
 },
 "nbformat": 4,
 "nbformat_minor": 5
}
